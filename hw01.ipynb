{
 "cells": [
  {
   "cell_type": "code",
   "execution_count": 1,
   "metadata": {
    "collapsed": true
   },
   "outputs": [],
   "source": [
    "import mediacloud, datetime"
   ]
  },
  {
   "cell_type": "code",
   "execution_count": 2,
   "metadata": {
    "collapsed": true
   },
   "outputs": [],
   "source": [
    "mc = mediacloud.api.MediaCloud('API KEY')"
   ]
  },
  {
   "cell_type": "code",
   "execution_count": 3,
   "metadata": {
    "collapsed": false
   },
   "outputs": [
    {
     "name": "stdout",
     "output_type": "stream",
     "text": [
      "131543\n",
      "90172\n"
     ]
    }
   ],
   "source": [
    "res1 = mc.sentenceCount('( republican)', solr_filter=[mc.publish_date_query( datetime.date( 2014, 5, 5), datetime.date( 2015, 5, 5) ), 'media_sets_id:1' ])\n",
    "res2 = mc.sentenceCount('( democratic )', solr_filter=[mc.publish_date_query( datetime.date( 2014, 5, 5), datetime.date( 2015, 5, 5) ), 'media_sets_id:1' ])\n",
    "print res1['count'] # prints the number of sentences found\n",
    "print res2['count'] # prints the number of sentences found"
   ]
  },
  {
   "cell_type": "code",
   "execution_count": null,
   "metadata": {
    "collapsed": true
   },
   "outputs": [],
   "source": []
  }
 ],
 "metadata": {
  "kernelspec": {
   "display_name": "Python 2",
   "language": "python",
   "name": "python2"
  },
  "language_info": {
   "codemirror_mode": {
    "name": "ipython",
    "version": 2
   },
   "file_extension": ".py",
   "mimetype": "text/x-python",
   "name": "python",
   "nbconvert_exporter": "python",
   "pygments_lexer": "ipython2",
   "version": "2.7.10"
  }
 },
 "nbformat": 4,
 "nbformat_minor": 0
}
